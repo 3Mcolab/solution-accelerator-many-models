{
 "cells": [
  {
   "cell_type": "markdown",
   "metadata": {},
   "source": [
    "Copyright (c) Microsoft Corporation. All rights reserved.\n",
    "\n",
    "Licensed under the MIT License."
   ]
  },
  {
   "cell_type": "markdown",
   "metadata": {},
   "source": [
    "# 03b Forecasting Pipeline\n",
    "---"
   ]
  },
  {
   "cell_type": "markdown",
   "metadata": {},
   "source": [
    "![Impressions](https://PixelServer20190423114238.azurewebsites.net/api/impressions/MachineLearningNotebooks/how-to-use-azureml/automated-machine-learning/manymodels/03_Forecasting/03_Forecasting_Pipeline.png)"
   ]
  },
  {
   "cell_type": "markdown",
   "metadata": {},
   "source": [
    "In this notebook we create a pipeline for Forcasting 11,973 AutoML models. The training and scoring of these models was completed in the Training notebook in this repository. We will set up the Pipeline for forecasting given the desired forecasting horizon. We utitlize the [ParallelRunStep](https://docs.microsoft.com/en-us/python/api/azureml-pipeline-steps/azureml.pipeline.steps.parallel_run_step.parallelrunstep?view=azure-ml-py) to parallelize the process. For more information about the Data and Models refer to the Data Preparation and Training Notebooks. \n",
    "\n",
    "The pipeline set up is similar to the Training Pipeline in this repository. For more details on the steps and functions refer to the Training folder. \n",
    "\n",
    "### Prerequisites \n",
    "At this point, you should have already:\n",
    "\n",
    "1. Created your AML Workspace using the [00_Setup_AML_Workspace notebook](../00_Setup_AML_Workspace.ipynb)\n",
    "2. Run [01b_Data_Preparation.ipynb](../01b_Data_Preparation/01b_Data_Preparation.ipynb) to create the dataset\n",
    "3. Run [02b_Train_AutomatedML.ipynb](../02b_Train_AutoML/02b_Train_AutoML.ipynb) to train the models"
   ]
  },
  {
   "cell_type": "code",
   "execution_count": 1,
   "metadata": {},
   "outputs": [
    {
     "name": "stdout",
     "output_type": "stream",
     "text": [
      "Requirement already satisfied: azureml-pipeline-steps in /anaconda/envs/azureml_py36/lib/python3.6/site-packages (1.6.0)\n",
      "Requirement already satisfied: azureml-pipeline-core~=1.6.0 in /anaconda/envs/azureml_py36/lib/python3.6/site-packages (from azureml-pipeline-steps) (1.6.0)\n",
      "Requirement already satisfied: azureml-train-core~=1.6.0 in /anaconda/envs/azureml_py36/lib/python3.6/site-packages (from azureml-pipeline-steps) (1.6.0.post1)\n",
      "Requirement already satisfied: azureml-train-automl-client~=1.6.0 in /anaconda/envs/azureml_py36/lib/python3.6/site-packages (from azureml-pipeline-steps) (1.6.0)\n",
      "Requirement already satisfied: azureml-core~=1.6.0 in /anaconda/envs/azureml_py36/lib/python3.6/site-packages (from azureml-pipeline-core~=1.6.0->azureml-pipeline-steps) (1.6.0)\n",
      "Requirement already satisfied: azureml-train-restclients-hyperdrive~=1.6.0 in /anaconda/envs/azureml_py36/lib/python3.6/site-packages (from azureml-train-core~=1.6.0->azureml-pipeline-steps) (1.6.0)\n",
      "Requirement already satisfied: azureml-telemetry~=1.6.0 in /anaconda/envs/azureml_py36/lib/python3.6/site-packages (from azureml-train-core~=1.6.0->azureml-pipeline-steps) (1.6.0)\n",
      "Requirement already satisfied: flake8<=3.7.9,>=3.1.0; python_version >= \"3.6\" in /anaconda/envs/azureml_py36/lib/python3.6/site-packages (from azureml-train-core~=1.6.0->azureml-pipeline-steps) (3.7.9)\n",
      "Requirement already satisfied: pytz in /anaconda/envs/azureml_py36/lib/python3.6/site-packages (from azureml-train-automl-client~=1.6.0->azureml-pipeline-steps) (2019.3)\n",
      "Requirement already satisfied: azureml-dataprep<1.7.0a,>=1.6.2a in /anaconda/envs/azureml_py36/lib/python3.6/site-packages (from azureml-train-automl-client~=1.6.0->azureml-pipeline-steps) (1.6.3)\n",
      "Requirement already satisfied: azureml-automl-core~=1.6.0 in /anaconda/envs/azureml_py36/lib/python3.6/site-packages (from azureml-train-automl-client~=1.6.0->azureml-pipeline-steps) (1.6.0)\n",
      "Requirement already satisfied: adal>=1.2.0 in /anaconda/envs/azureml_py36/lib/python3.6/site-packages (from azureml-core~=1.6.0->azureml-pipeline-core~=1.6.0->azureml-pipeline-steps) (1.2.2)\n",
      "Requirement already satisfied: urllib3>=1.23 in /anaconda/envs/azureml_py36/lib/python3.6/site-packages (from azureml-core~=1.6.0->azureml-pipeline-core~=1.6.0->azureml-pipeline-steps) (1.24.2)\n",
      "Requirement already satisfied: python-dateutil>=2.7.3 in /anaconda/envs/azureml_py36/lib/python3.6/site-packages (from azureml-core~=1.6.0->azureml-pipeline-core~=1.6.0->azureml-pipeline-steps) (2.8.0)\n",
      "Requirement already satisfied: pathspec in /anaconda/envs/azureml_py36/lib/python3.6/site-packages (from azureml-core~=1.6.0->azureml-pipeline-core~=1.6.0->azureml-pipeline-steps) (0.8.0)\n",
      "Requirement already satisfied: jsonpickle in /anaconda/envs/azureml_py36/lib/python3.6/site-packages (from azureml-core~=1.6.0->azureml-pipeline-core~=1.6.0->azureml-pipeline-steps) (1.4.1)\n",
      "Requirement already satisfied: azure-mgmt-storage>=1.5.0 in /anaconda/envs/azureml_py36/lib/python3.6/site-packages (from azureml-core~=1.6.0->azureml-pipeline-core~=1.6.0->azureml-pipeline-steps) (9.0.0)\n",
      "Requirement already satisfied: azure-common>=1.1.12 in /anaconda/envs/azureml_py36/lib/python3.6/site-packages (from azureml-core~=1.6.0->azureml-pipeline-core~=1.6.0->azureml-pipeline-steps) (1.1.25)\n",
      "Requirement already satisfied: ndg-httpsclient in /anaconda/envs/azureml_py36/lib/python3.6/site-packages (from azureml-core~=1.6.0->azureml-pipeline-core~=1.6.0->azureml-pipeline-steps) (0.5.1)\n",
      "Requirement already satisfied: azure-graphrbac>=0.40.0 in /anaconda/envs/azureml_py36/lib/python3.6/site-packages (from azureml-core~=1.6.0->azureml-pipeline-core~=1.6.0->azureml-pipeline-steps) (0.61.1)\n",
      "Requirement already satisfied: azure-mgmt-resource>=1.2.1 in /anaconda/envs/azureml_py36/lib/python3.6/site-packages (from azureml-core~=1.6.0->azureml-pipeline-core~=1.6.0->azureml-pipeline-steps) (9.0.0)\n",
      "Requirement already satisfied: PyJWT in /anaconda/envs/azureml_py36/lib/python3.6/site-packages (from azureml-core~=1.6.0->azureml-pipeline-core~=1.6.0->azureml-pipeline-steps) (1.7.1)\n",
      "Requirement already satisfied: azure-mgmt-keyvault>=0.40.0 in /anaconda/envs/azureml_py36/lib/python3.6/site-packages (from azureml-core~=1.6.0->azureml-pipeline-core~=1.6.0->azureml-pipeline-steps) (2.2.0)\n",
      "Requirement already satisfied: contextlib2 in /anaconda/envs/azureml_py36/lib/python3.6/site-packages (from azureml-core~=1.6.0->azureml-pipeline-core~=1.6.0->azureml-pipeline-steps) (0.6.0)\n",
      "Requirement already satisfied: azure-mgmt-network~=10.0 in /anaconda/envs/azureml_py36/lib/python3.6/site-packages (from azureml-core~=1.6.0->azureml-pipeline-core~=1.6.0->azureml-pipeline-steps) (10.2.0)\n",
      "Requirement already satisfied: msrestazure>=0.4.33 in /anaconda/envs/azureml_py36/lib/python3.6/site-packages (from azureml-core~=1.6.0->azureml-pipeline-core~=1.6.0->azureml-pipeline-steps) (0.6.3)\n",
      "Requirement already satisfied: backports.tempfile in /anaconda/envs/azureml_py36/lib/python3.6/site-packages (from azureml-core~=1.6.0->azureml-pipeline-core~=1.6.0->azureml-pipeline-steps) (1.0)\n",
      "Requirement already satisfied: docker in /anaconda/envs/azureml_py36/lib/python3.6/site-packages (from azureml-core~=1.6.0->azureml-pipeline-core~=1.6.0->azureml-pipeline-steps) (4.2.0)\n",
      "Requirement already satisfied: pyopenssl in /anaconda/envs/azureml_py36/lib/python3.6/site-packages (from azureml-core~=1.6.0->azureml-pipeline-core~=1.6.0->azureml-pipeline-steps) (19.0.0)\n",
      "Requirement already satisfied: ruamel.yaml>0.16.7 in /anaconda/envs/azureml_py36/lib/python3.6/site-packages (from azureml-core~=1.6.0->azureml-pipeline-core~=1.6.0->azureml-pipeline-steps) (0.16.10)\n",
      "Requirement already satisfied: jmespath in /anaconda/envs/azureml_py36/lib/python3.6/site-packages (from azureml-core~=1.6.0->azureml-pipeline-core~=1.6.0->azureml-pipeline-steps) (0.9.5)\n",
      "Requirement already satisfied: azure-mgmt-containerregistry>=2.0.0 in /anaconda/envs/azureml_py36/lib/python3.6/site-packages (from azureml-core~=1.6.0->azureml-pipeline-core~=1.6.0->azureml-pipeline-steps) (2.8.0)\n",
      "Requirement already satisfied: requests>=2.19.1 in /anaconda/envs/azureml_py36/lib/python3.6/site-packages (from azureml-core~=1.6.0->azureml-pipeline-core~=1.6.0->azureml-pipeline-steps) (2.23.0)\n",
      "Requirement already satisfied: cryptography!=1.9,!=2.0.*,!=2.1.*,!=2.2.* in /anaconda/envs/azureml_py36/lib/python3.6/site-packages (from azureml-core~=1.6.0->azureml-pipeline-core~=1.6.0->azureml-pipeline-steps) (2.7)\n",
      "Requirement already satisfied: azure-mgmt-authorization>=0.40.0 in /anaconda/envs/azureml_py36/lib/python3.6/site-packages (from azureml-core~=1.6.0->azureml-pipeline-core~=1.6.0->azureml-pipeline-steps) (0.60.0)\n",
      "Requirement already satisfied: SecretStorage in /anaconda/envs/azureml_py36/lib/python3.6/site-packages (from azureml-core~=1.6.0->azureml-pipeline-core~=1.6.0->azureml-pipeline-steps) (3.1.1)\n",
      "Requirement already satisfied: msrest>=0.5.1 in /anaconda/envs/azureml_py36/lib/python3.6/site-packages (from azureml-core~=1.6.0->azureml-pipeline-core~=1.6.0->azureml-pipeline-steps) (0.6.13)\n",
      "Requirement already satisfied: applicationinsights in /anaconda/envs/azureml_py36/lib/python3.6/site-packages (from azureml-telemetry~=1.6.0->azureml-train-core~=1.6.0->azureml-pipeline-steps) (0.11.9)\n",
      "Requirement already satisfied: pycodestyle<2.6.0,>=2.5.0 in /anaconda/envs/azureml_py36/lib/python3.6/site-packages (from flake8<=3.7.9,>=3.1.0; python_version >= \"3.6\"->azureml-train-core~=1.6.0->azureml-pipeline-steps) (2.5.0)\n",
      "Requirement already satisfied: pyflakes<2.2.0,>=2.1.0 in /anaconda/envs/azureml_py36/lib/python3.6/site-packages (from flake8<=3.7.9,>=3.1.0; python_version >= \"3.6\"->azureml-train-core~=1.6.0->azureml-pipeline-steps) (2.1.1)\n",
      "Requirement already satisfied: entrypoints<0.4.0,>=0.3.0 in /anaconda/envs/azureml_py36/lib/python3.6/site-packages (from flake8<=3.7.9,>=3.1.0; python_version >= \"3.6\"->azureml-train-core~=1.6.0->azureml-pipeline-steps) (0.3)\n",
      "Requirement already satisfied: mccabe<0.7.0,>=0.6.0 in /anaconda/envs/azureml_py36/lib/python3.6/site-packages (from flake8<=3.7.9,>=3.1.0; python_version >= \"3.6\"->azureml-train-core~=1.6.0->azureml-pipeline-steps) (0.6.1)\n",
      "Requirement already satisfied: azureml-dataprep-native<15.0.0,>=14.1.0 in /anaconda/envs/azureml_py36/lib/python3.6/site-packages (from azureml-dataprep<1.7.0a,>=1.6.2a->azureml-train-automl-client~=1.6.0->azureml-pipeline-steps) (14.1.0)\n",
      "Requirement already satisfied: dotnetcore2>=2.1.14 in /anaconda/envs/azureml_py36/lib/python3.6/site-packages (from azureml-dataprep<1.7.0a,>=1.6.2a->azureml-train-automl-client~=1.6.0->azureml-pipeline-steps) (2.1.14)\n",
      "Requirement already satisfied: cloudpickle>=1.1.0 in /anaconda/envs/azureml_py36/lib/python3.6/site-packages (from azureml-dataprep<1.7.0a,>=1.6.2a->azureml-train-automl-client~=1.6.0->azureml-pipeline-steps) (1.2.2)\n",
      "Requirement already satisfied: azure-identity<1.3.0,>=1.2.0 in /anaconda/envs/azureml_py36/lib/python3.6/site-packages (from azureml-dataprep<1.7.0a,>=1.6.2a->azureml-train-automl-client~=1.6.0->azureml-pipeline-steps) (1.2.0)\n",
      "Requirement already satisfied: six>=1.5 in /anaconda/envs/azureml_py36/lib/python3.6/site-packages (from python-dateutil>=2.7.3->azureml-core~=1.6.0->azureml-pipeline-core~=1.6.0->azureml-pipeline-steps) (1.12.0)\n",
      "Requirement already satisfied: importlib-metadata in /anaconda/envs/azureml_py36/lib/python3.6/site-packages (from jsonpickle->azureml-core~=1.6.0->azureml-pipeline-core~=1.6.0->azureml-pipeline-steps) (0.23)\n",
      "Requirement already satisfied: pyasn1>=0.1.1 in /anaconda/envs/azureml_py36/lib/python3.6/site-packages (from ndg-httpsclient->azureml-core~=1.6.0->azureml-pipeline-core~=1.6.0->azureml-pipeline-steps) (0.4.8)\n",
      "Requirement already satisfied: backports.weakref in /anaconda/envs/azureml_py36/lib/python3.6/site-packages (from backports.tempfile->azureml-core~=1.6.0->azureml-pipeline-core~=1.6.0->azureml-pipeline-steps) (1.0.post1)\n",
      "Requirement already satisfied: websocket-client>=0.32.0 in /anaconda/envs/azureml_py36/lib/python3.6/site-packages (from docker->azureml-core~=1.6.0->azureml-pipeline-core~=1.6.0->azureml-pipeline-steps) (0.57.0)\n",
      "Requirement already satisfied: ruamel.yaml.clib>=0.1.2; platform_python_implementation == \"CPython\" and python_version < \"3.9\" in /anaconda/envs/azureml_py36/lib/python3.6/site-packages (from ruamel.yaml>0.16.7->azureml-core~=1.6.0->azureml-pipeline-core~=1.6.0->azureml-pipeline-steps) (0.2.0)\n",
      "Requirement already satisfied: certifi>=2017.4.17 in /anaconda/envs/azureml_py36/lib/python3.6/site-packages (from requests>=2.19.1->azureml-core~=1.6.0->azureml-pipeline-core~=1.6.0->azureml-pipeline-steps) (2020.4.5.1)\n",
      "Requirement already satisfied: chardet<4,>=3.0.2 in /anaconda/envs/azureml_py36/lib/python3.6/site-packages (from requests>=2.19.1->azureml-core~=1.6.0->azureml-pipeline-core~=1.6.0->azureml-pipeline-steps) (3.0.4)\n",
      "Requirement already satisfied: idna<3,>=2.5 in /anaconda/envs/azureml_py36/lib/python3.6/site-packages (from requests>=2.19.1->azureml-core~=1.6.0->azureml-pipeline-core~=1.6.0->azureml-pipeline-steps) (2.8)\n",
      "Requirement already satisfied: asn1crypto>=0.21.0 in /anaconda/envs/azureml_py36/lib/python3.6/site-packages (from cryptography!=1.9,!=2.0.*,!=2.1.*,!=2.2.*->azureml-core~=1.6.0->azureml-pipeline-core~=1.6.0->azureml-pipeline-steps) (1.0.1)\n",
      "Requirement already satisfied: cffi!=1.11.3,>=1.8 in /anaconda/envs/azureml_py36/lib/python3.6/site-packages (from cryptography!=1.9,!=2.0.*,!=2.1.*,!=2.2.*->azureml-core~=1.6.0->azureml-pipeline-core~=1.6.0->azureml-pipeline-steps) (1.12.3)\n",
      "Requirement already satisfied: jeepney in /anaconda/envs/azureml_py36/lib/python3.6/site-packages (from SecretStorage->azureml-core~=1.6.0->azureml-pipeline-core~=1.6.0->azureml-pipeline-steps) (0.4.1)\n",
      "Requirement already satisfied: isodate>=0.6.0 in /anaconda/envs/azureml_py36/lib/python3.6/site-packages (from msrest>=0.5.1->azureml-core~=1.6.0->azureml-pipeline-core~=1.6.0->azureml-pipeline-steps) (0.6.0)\n",
      "Requirement already satisfied: requests-oauthlib>=0.5.0 in /anaconda/envs/azureml_py36/lib/python3.6/site-packages (from msrest>=0.5.1->azureml-core~=1.6.0->azureml-pipeline-core~=1.6.0->azureml-pipeline-steps) (1.3.0)\n",
      "Requirement already satisfied: distro>=1.2.0 in /anaconda/envs/azureml_py36/lib/python3.6/site-packages (from dotnetcore2>=2.1.14->azureml-dataprep<1.7.0a,>=1.6.2a->azureml-train-automl-client~=1.6.0->azureml-pipeline-steps) (1.5.0)\n",
      "Requirement already satisfied: msal<2.0.0,>=1.0.0 in /anaconda/envs/azureml_py36/lib/python3.6/site-packages (from azure-identity<1.3.0,>=1.2.0->azureml-dataprep<1.7.0a,>=1.6.2a->azureml-train-automl-client~=1.6.0->azureml-pipeline-steps) (1.2.0)\n",
      "Requirement already satisfied: azure-core<2.0.0,>=1.0.0 in /anaconda/envs/azureml_py36/lib/python3.6/site-packages (from azure-identity<1.3.0,>=1.2.0->azureml-dataprep<1.7.0a,>=1.6.2a->azureml-train-automl-client~=1.6.0->azureml-pipeline-steps) (1.4.0)\n",
      "Requirement already satisfied: msal-extensions~=0.1.3 in /anaconda/envs/azureml_py36/lib/python3.6/site-packages (from azure-identity<1.3.0,>=1.2.0->azureml-dataprep<1.7.0a,>=1.6.2a->azureml-train-automl-client~=1.6.0->azureml-pipeline-steps) (0.1.3)\n",
      "Requirement already satisfied: zipp>=0.5 in /anaconda/envs/azureml_py36/lib/python3.6/site-packages (from importlib-metadata->jsonpickle->azureml-core~=1.6.0->azureml-pipeline-core~=1.6.0->azureml-pipeline-steps) (0.6.0)\n",
      "Requirement already satisfied: pycparser in /anaconda/envs/azureml_py36/lib/python3.6/site-packages (from cffi!=1.11.3,>=1.8->cryptography!=1.9,!=2.0.*,!=2.1.*,!=2.2.*->azureml-core~=1.6.0->azureml-pipeline-core~=1.6.0->azureml-pipeline-steps) (2.19)\n",
      "Requirement already satisfied: oauthlib>=3.0.0 in /anaconda/envs/azureml_py36/lib/python3.6/site-packages (from requests-oauthlib>=0.5.0->msrest>=0.5.1->azureml-core~=1.6.0->azureml-pipeline-core~=1.6.0->azureml-pipeline-steps) (3.1.0)\n",
      "Requirement already satisfied: portalocker~=1.0 in /anaconda/envs/azureml_py36/lib/python3.6/site-packages (from msal-extensions~=0.1.3->azure-identity<1.3.0,>=1.2.0->azureml-dataprep<1.7.0a,>=1.6.2a->azureml-train-automl-client~=1.6.0->azureml-pipeline-steps) (1.7.0)\n",
      "Requirement already satisfied: more-itertools in /anaconda/envs/azureml_py36/lib/python3.6/site-packages (from zipp>=0.5->importlib-metadata->jsonpickle->azureml-core~=1.6.0->azureml-pipeline-core~=1.6.0->azureml-pipeline-steps) (7.2.0)\n"
     ]
    }
   ],
   "source": [
    "#Install the pipeline.steps package that is needed for parallel run step\n",
    "!pip install azureml-pipeline-steps"
   ]
  },
  {
   "cell_type": "markdown",
   "metadata": {},
   "source": [
    "## 1.0 Call the Workspace, Datastore, and Compute\n",
    "\n",
    "As we did in the Training Pipeline notebook, we need to call the Workspace. We also want to create variables for the datastore and compute cluster. \n",
    "\n",
    "### Connect to the workspace\n"
   ]
  },
  {
   "cell_type": "code",
   "execution_count": 2,
   "metadata": {},
   "outputs": [
    {
     "data": {
      "text/html": [
       "<div>\n",
       "<style scoped>\n",
       "    .dataframe tbody tr th:only-of-type {\n",
       "        vertical-align: middle;\n",
       "    }\n",
       "\n",
       "    .dataframe tbody tr th {\n",
       "        vertical-align: top;\n",
       "    }\n",
       "\n",
       "    .dataframe thead th {\n",
       "        text-align: right;\n",
       "    }\n",
       "</style>\n",
       "<table border=\"1\" class=\"dataframe\">\n",
       "  <thead>\n",
       "    <tr style=\"text-align: right;\">\n",
       "      <th></th>\n",
       "      <th></th>\n",
       "    </tr>\n",
       "  </thead>\n",
       "  <tbody>\n",
       "    <tr>\n",
       "      <th>SDK version</th>\n",
       "      <td>1.6.0</td>\n",
       "    </tr>\n",
       "    <tr>\n",
       "      <th>Subscription ID</th>\n",
       "      <td>f97fb87f-32d7-4d7c-9bc5-ea43b4fea7ac</td>\n",
       "    </tr>\n",
       "    <tr>\n",
       "      <th>Workspace</th>\n",
       "      <td>krishnapmws</td>\n",
       "    </tr>\n",
       "    <tr>\n",
       "      <th>Resource Group</th>\n",
       "      <td>krishnatutorialrg</td>\n",
       "    </tr>\n",
       "    <tr>\n",
       "      <th>Location</th>\n",
       "      <td>eastus2</td>\n",
       "    </tr>\n",
       "    <tr>\n",
       "      <th>Default datastore name</th>\n",
       "      <td>workspaceblobstore</td>\n",
       "    </tr>\n",
       "  </tbody>\n",
       "</table>\n",
       "</div>"
      ],
      "text/plain": [
       "                                                            \n",
       "SDK version             1.6.0                               \n",
       "Subscription ID         f97fb87f-32d7-4d7c-9bc5-ea43b4fea7ac\n",
       "Workspace               krishnapmws                         \n",
       "Resource Group          krishnatutorialrg                   \n",
       "Location                eastus2                             \n",
       "Default datastore name  workspaceblobstore                  "
      ]
     },
     "execution_count": 2,
     "metadata": {},
     "output_type": "execute_result"
    }
   ],
   "source": [
    "import azureml.core\n",
    "from azureml.core import Workspace, Datastore\n",
    "import pandas as pd\n",
    "\n",
    "# set up workspace\n",
    "ws= Workspace.from_config() \n",
    "\n",
    "# Take a look at Workspace\n",
    "ws.get_details()\n",
    "\n",
    "# set up datastores\n",
    "dstore = ws.get_default_datastore()\n",
    "\n",
    "output = {}\n",
    "output['SDK version'] = azureml.core.VERSION\n",
    "output['Subscription ID'] = ws.subscription_id\n",
    "output['Workspace'] = ws.name\n",
    "output['Resource Group'] = ws.resource_group\n",
    "output['Location'] = ws.location\n",
    "output['Default datastore name'] = dstore.name\n",
    "pd.set_option('display.max_colwidth', -1)\n",
    "outputDf = pd.DataFrame(data = output, index = [''])\n",
    "outputDf.T"
   ]
  },
  {
   "cell_type": "markdown",
   "metadata": {},
   "source": [
    "### Attach existing compute resource\n"
   ]
  },
  {
   "cell_type": "code",
   "execution_count": 3,
   "metadata": {},
   "outputs": [
    {
     "name": "stdout",
     "output_type": "stream",
     "text": [
      "Found existing compute target.\n",
      "Checking cluster status...\n",
      "Succeeded\n",
      "AmlCompute wait for completion finished\n",
      "\n",
      "Minimum number of nodes requested have been provisioned\n"
     ]
    }
   ],
   "source": [
    "from azureml.core.compute import AmlCompute, ComputeTarget\n",
    "\n",
    "# Choose a name for your cluster.\n",
    "amlcompute_cluster_name = \"train-many-model\"\n",
    "\n",
    "found = False\n",
    "# Check if this compute target already exists in the workspace.\n",
    "cts = ws.compute_targets\n",
    "if amlcompute_cluster_name in cts and cts[amlcompute_cluster_name].type == 'AmlCompute':\n",
    "    found = True\n",
    "    print('Found existing compute target.')\n",
    "    compute = cts[amlcompute_cluster_name]\n",
    "    \n",
    "if not found:\n",
    "    print('Creating a new compute target...')\n",
    "    provisioning_config = AmlCompute.provisioning_configuration(vm_size='STANDARD_D13_V2',\n",
    "                                                           min_nodes=3,\n",
    "                                                           max_nodes=20)\n",
    "    # Create the cluster.\n",
    "    compute = ComputeTarget.create(ws, amlcompute_cluster_name, provisioning_config)\n",
    "    \n",
    "print('Checking cluster status...')\n",
    "# Can poll for a minimum number of nodes and for a specific timeout.\n",
    "# If no min_node_count is provided, it will use the scale settings for the cluster.\n",
    "compute.wait_for_completion(show_output = True, min_node_count = None, timeout_in_minutes = 20)\n",
    "    \n",
    "# For a more detailed view of current AmlCompute status, use get_status()."
   ]
  },
  {
   "cell_type": "markdown",
   "metadata": {},
   "source": [
    "### Set up an Experiment"
   ]
  },
  {
   "cell_type": "code",
   "execution_count": 4,
   "metadata": {},
   "outputs": [],
   "source": [
    "from azureml.core import Experiment\n",
    "\n",
    "experiment = Experiment(ws, 'manymodels-forecasting-pipeline')"
   ]
  },
  {
   "cell_type": "markdown",
   "metadata": {},
   "source": [
    "### Call the Datastore"
   ]
  },
  {
   "cell_type": "code",
   "execution_count": 5,
   "metadata": {},
   "outputs": [],
   "source": [
    "from azureml.core import Datastore\n",
    "\n",
    "dstore = ws.get_default_datastore()"
   ]
  },
  {
   "cell_type": "markdown",
   "metadata": {},
   "source": [
    "## 2.0 Call Registered FileDataset\n",
    "In the Data Preparation notebook, we registered the orange juice inference data to the Workspace. You can choose to run the pipeline on the subet of 10 series or the full dataset of 11,973 series. We recommend starting with 10 series then expanding. "
   ]
  },
  {
   "cell_type": "code",
   "execution_count": 6,
   "metadata": {},
   "outputs": [],
   "source": [
    "from azureml.core.dataset import Dataset\n",
    "\n",
    "filedst_10_models = Dataset.get_by_name(ws, name='oj_inference_small')\n",
    "filedst_10_models_input = filedst_10_models.as_named_input('forecast_10_models')\n",
    " \n",
    "filedst_all_models = Dataset.get_by_name(ws, name='oj_inference')\n",
    "filedst_all_models_input = filedst_all_models.as_named_input('forecast_all_models')"
   ]
  },
  {
   "cell_type": "markdown",
   "metadata": {},
   "source": [
    "## 3.0 Build forecasting pipeline\n",
    "Now that the data, models, and compute resources are set up, we can put together a pipeline for forecasting. \n",
    "### Set up the environment to run the script\n",
    "Specify the conda dependencies for your script. This will allow us to install packages and configure the environment."
   ]
  },
  {
   "cell_type": "code",
   "execution_count": 7,
   "metadata": {},
   "outputs": [],
   "source": [
    "from scripts.helper import get_automl_environment\n",
    "forecast_env = get_automl_environment()"
   ]
  },
  {
   "cell_type": "markdown",
   "metadata": {},
   "source": [
    "### Create the configuration to wrap the entry script \n",
    "[ParallelRunConfig](https://docs.microsoft.com/en-us/python/api/azureml-pipeline-steps/azureml.pipeline.steps.parallel_run_config.parallelrunconfig?view=azure-ml-py) is configuration for parallel run step. You will need to determine the number of workers and nodes appropriate for your use case. The process_count_per_node is based off the number of cores of the compute VM. The node_count will determine the number of master nodes to use, increasing the node count will speed up the training process.\n",
    "\n",
    "\n",
    "* <b>node_count</b>: The number of compute nodes to be used for running the user script. We recommend to start with 3 and increase the node_count if the training time is taking too long.\n",
    "\n",
    "* <b>process_count_per_node</b>: The number of processes per node.\n",
    "\n",
    "* <b>run_invocation_timeout</b>: The run() method invocation timeout in seconds. The timeout should be set to maximum training time of one AutoML run(with some buffer), by default it's 60 seconds.\n",
    "\n",
    "<span style=\"color:red\"><b>NOTE: There are limits on how many runs we can do in parallel per workspace, and we currently recommend to set the parallelism to maximum of 20 runs per experiment per workspace. If users want to have more parallelism and increase this limit they might encounter Too Many Requests errors (HTTP 429). </b></span>"
   ]
  },
  {
   "cell_type": "code",
   "execution_count": 8,
   "metadata": {},
   "outputs": [],
   "source": [
    "from scripts.helper import build_parallel_run_config_for_forecasting\n",
    "\n",
    "# PLEASE MODIFY the following three settings based on your compute and experiment timeout.\n",
    "node_count=3\n",
    "process_count_per_node=6\n",
    "run_invocation_timeout=300 # this timeout(in seconds), for larger models need to change this to a higher timeout\n",
    "\n",
    "\n",
    "parallel_run_config = build_parallel_run_config_for_forecasting(forecast_env, compute, node_count, process_count_per_node, run_invocation_timeout)"
   ]
  },
  {
   "cell_type": "markdown",
   "metadata": {},
   "source": [
    "### Create the ParallelRunStep\n",
    " The [ParallelRunStep](https://docs.microsoft.com/en-us/python/api/azureml-pipeline-steps/azureml.pipeline.steps.parallel_run_step.parallelrunstep?view=azure-ml-py) is the main step in our pipeline. We specified the following parameters: **input**, **output**, and **arguments**. We also set the output directory.   \n",
    "\n",
    "For the orange juice sales forecasting, we pass two **arguments** to the entry_script. \n",
    "- **group_column_names** list of column names that identifies groups\n",
    "- **target_column_name** [Optional] column name only if the inference dataset has the target \n",
    "- **time_column_name** [Optional] column name only if it is timeseries\n",
    "\n",
    "*arguments* and *inputs* are the two parameters that can pass information to the entry_script.\n",
    "\n",
    "You can change between running the pipeline on a subset of models or the full data set by changing the inputs parameter. "
   ]
  },
  {
   "cell_type": "code",
   "execution_count": 10,
   "metadata": {},
   "outputs": [
    {
     "ename": "ValueError",
     "evalue": "Found invalid argument Brand. As your arguments will be merged with reserved argument, you can only use keyword argument.",
     "output_type": "error",
     "traceback": [
      "\u001b[0;31m---------------------------------------------------------------------------\u001b[0m",
      "\u001b[0;31mValueError\u001b[0m                                Traceback (most recent call last)",
      "\u001b[0;32m<ipython-input-10-f89199ed4b72>\u001b[0m in \u001b[0;36m<module>\u001b[0;34m\u001b[0m\n\u001b[1;32m     15\u001b[0m     arguments=['--group_column_names', 'Store', 'Brand',\n\u001b[1;32m     16\u001b[0m               \u001b[0;34m'--target_column_name'\u001b[0m\u001b[0;34m,\u001b[0m \u001b[0;34m'Quantity'\u001b[0m\u001b[0;34m,\u001b[0m \u001b[0;31m# this is optional, and needs to be passed only if inference data contains target column\u001b[0m\u001b[0;34m\u001b[0m\u001b[0;34m\u001b[0m\u001b[0m\n\u001b[0;32m---> 17\u001b[0;31m               \u001b[0;34m'--time_column_name'\u001b[0m\u001b[0;34m,\u001b[0m \u001b[0;34m'WeekStarting'\u001b[0m  \u001b[0;31m# this is needed for timeseries\u001b[0m\u001b[0;34m\u001b[0m\u001b[0;34m\u001b[0m\u001b[0m\n\u001b[0m\u001b[1;32m     18\u001b[0m               ])\n",
      "\u001b[0;32m/anaconda/envs/azureml_py36/lib/python3.6/site-packages/azureml/pipeline/steps/parallel_run_step.py\u001b[0m in \u001b[0;36m__init__\u001b[0;34m(self, name, parallel_run_config, inputs, output, side_inputs, arguments, allow_reuse)\u001b[0m\n\u001b[1;32m    128\u001b[0m             \u001b[0mside_inputs\u001b[0m\u001b[0;34m=\u001b[0m\u001b[0mside_inputs\u001b[0m\u001b[0;34m,\u001b[0m\u001b[0;34m\u001b[0m\u001b[0;34m\u001b[0m\u001b[0m\n\u001b[1;32m    129\u001b[0m             \u001b[0marguments\u001b[0m\u001b[0;34m=\u001b[0m\u001b[0marguments\u001b[0m\u001b[0;34m,\u001b[0m\u001b[0;34m\u001b[0m\u001b[0;34m\u001b[0m\u001b[0m\n\u001b[0;32m--> 130\u001b[0;31m             \u001b[0mallow_reuse\u001b[0m\u001b[0;34m=\u001b[0m\u001b[0mallow_reuse\u001b[0m\u001b[0;34m,\u001b[0m\u001b[0;34m\u001b[0m\u001b[0;34m\u001b[0m\u001b[0m\n\u001b[0m\u001b[1;32m    131\u001b[0m         )\n\u001b[1;32m    132\u001b[0m \u001b[0;34m\u001b[0m\u001b[0m\n",
      "\u001b[0;32m/anaconda/envs/azureml_py36/lib/python3.6/site-packages/azureml/pipeline/core/_parallel_run_step_base.py\u001b[0m in \u001b[0;36m__init__\u001b[0;34m(self, name, parallel_run_config, inputs, output, side_inputs, arguments, allow_reuse)\u001b[0m\n\u001b[1;32m    187\u001b[0m         \u001b[0mself\u001b[0m\u001b[0;34m.\u001b[0m\u001b[0m_module_logger\u001b[0m \u001b[0;34m=\u001b[0m \u001b[0mlogging\u001b[0m\u001b[0;34m.\u001b[0m\u001b[0mgetLogger\u001b[0m\u001b[0;34m(\u001b[0m\u001b[0m__name__\u001b[0m\u001b[0;34m)\u001b[0m\u001b[0;34m\u001b[0m\u001b[0;34m\u001b[0m\u001b[0m\n\u001b[1;32m    188\u001b[0m \u001b[0;34m\u001b[0m\u001b[0m\n\u001b[0;32m--> 189\u001b[0;31m         \u001b[0mself\u001b[0m\u001b[0;34m.\u001b[0m\u001b[0m_validate\u001b[0m\u001b[0;34m(\u001b[0m\u001b[0;34m)\u001b[0m\u001b[0;34m\u001b[0m\u001b[0;34m\u001b[0m\u001b[0m\n\u001b[0m\u001b[1;32m    190\u001b[0m         \u001b[0mself\u001b[0m\u001b[0;34m.\u001b[0m\u001b[0m_get_pystep_inputs\u001b[0m\u001b[0;34m(\u001b[0m\u001b[0;34m)\u001b[0m\u001b[0;34m\u001b[0m\u001b[0;34m\u001b[0m\u001b[0m\n\u001b[1;32m    191\u001b[0m \u001b[0;34m\u001b[0m\u001b[0m\n",
      "\u001b[0;32m/anaconda/envs/azureml_py36/lib/python3.6/site-packages/azureml/pipeline/core/_parallel_run_step_base.py\u001b[0m in \u001b[0;36m_validate\u001b[0;34m(self)\u001b[0m\n\u001b[1;32m    220\u001b[0m         \u001b[0;34m\"\"\"Validate input params to init parallel run step class.\"\"\"\u001b[0m\u001b[0;34m\u001b[0m\u001b[0;34m\u001b[0m\u001b[0m\n\u001b[1;32m    221\u001b[0m         \u001b[0mself\u001b[0m\u001b[0;34m.\u001b[0m\u001b[0m_validate_name\u001b[0m\u001b[0;34m(\u001b[0m\u001b[0;34m)\u001b[0m\u001b[0;34m\u001b[0m\u001b[0;34m\u001b[0m\u001b[0m\n\u001b[0;32m--> 222\u001b[0;31m         \u001b[0mself\u001b[0m\u001b[0;34m.\u001b[0m\u001b[0m_validate_arguments\u001b[0m\u001b[0;34m(\u001b[0m\u001b[0;34m)\u001b[0m\u001b[0;34m\u001b[0m\u001b[0;34m\u001b[0m\u001b[0m\n\u001b[0m\u001b[1;32m    223\u001b[0m         \u001b[0mself\u001b[0m\u001b[0;34m.\u001b[0m\u001b[0m_validate_inputs\u001b[0m\u001b[0;34m(\u001b[0m\u001b[0;34m)\u001b[0m\u001b[0;34m\u001b[0m\u001b[0;34m\u001b[0m\u001b[0m\n\u001b[1;32m    224\u001b[0m         \u001b[0mself\u001b[0m\u001b[0;34m.\u001b[0m\u001b[0m_validate_output\u001b[0m\u001b[0;34m(\u001b[0m\u001b[0;34m)\u001b[0m\u001b[0;34m\u001b[0m\u001b[0;34m\u001b[0m\u001b[0m\n",
      "\u001b[0;32m/anaconda/envs/azureml_py36/lib/python3.6/site-packages/azureml/pipeline/core/_parallel_run_step_base.py\u001b[0m in \u001b[0;36m_validate_arguments\u001b[0;34m(self)\u001b[0m\n\u001b[1;32m    262\u001b[0m                     \u001b[0;34m\"Found invalid argument {}.\"\u001b[0m\u001b[0;34m\u001b[0m\u001b[0;34m\u001b[0m\u001b[0m\n\u001b[1;32m    263\u001b[0m                     \u001b[0;34m\" As your arguments will be merged with reserved argument,\"\u001b[0m\u001b[0;34m\u001b[0m\u001b[0;34m\u001b[0m\u001b[0m\n\u001b[0;32m--> 264\u001b[0;31m                     \u001b[0;34m\" you can only use keyword argument.\"\u001b[0m\u001b[0;34m.\u001b[0m\u001b[0mformat\u001b[0m\u001b[0;34m(\u001b[0m\u001b[0mitem\u001b[0m\u001b[0;34m)\u001b[0m\u001b[0;34m\u001b[0m\u001b[0;34m\u001b[0m\u001b[0m\n\u001b[0m\u001b[1;32m    265\u001b[0m                 )\n\u001b[1;32m    266\u001b[0m \u001b[0;34m\u001b[0m\u001b[0m\n",
      "\u001b[0;31mValueError\u001b[0m: Found invalid argument Brand. As your arguments will be merged with reserved argument, you can only use keyword argument."
     ]
    }
   ],
   "source": [
    "from azureml.pipeline.core import PipelineData\n",
    "from azureml.pipeline.steps import ParallelRunStep\n",
    "\n",
    "forecasting_output_name = 'forecasting_output'\n",
    "\n",
    "output_dir = PipelineData(name = forecasting_output_name, \n",
    "                          datastore = dstore)\n",
    "\n",
    "parallelrun_step = ParallelRunStep(\n",
    "    name=\"many-models-forecasting\",\n",
    "    parallel_run_config=parallel_run_config,\n",
    "    inputs=[filedst_10_models_input], \n",
    "    #inputs=[filedst_all_models_input],\n",
    "    output=output_dir,\n",
    "    arguments=['--group_column_names', 'Store', 'Brand',\n",
    "              '--target_column_name', 'Quantity', # this is optional, and needs to be passed only if inference data contains target column\n",
    "              '--time_column_name', 'WeekStarting'  # this is needed for timeseries\n",
    "              ])"
   ]
  },
  {
   "cell_type": "markdown",
   "metadata": {},
   "source": [
    "## 4.0 Run the forecast pipeline\n",
    "We can use the Experiment we created to track the runs of the pipeline and review the output."
   ]
  },
  {
   "cell_type": "code",
   "execution_count": null,
   "metadata": {},
   "outputs": [],
   "source": [
    "from azureml.pipeline.core import Pipeline\n",
    "\n",
    "pipeline = Pipeline(workspace = ws, steps=parallelrun_step)\n",
    "run = experiment.submit(pipeline)"
   ]
  },
  {
   "cell_type": "markdown",
   "metadata": {},
   "source": [
    "You can run the folowing command if you'd like to monitor the forecasting process in jupyter notebook. It will stream logs live while forecasting. \n",
    "\n",
    "**Note**: this command may not work for Notebook VM, however it should work on your local laptop."
   ]
  },
  {
   "cell_type": "code",
   "execution_count": null,
   "metadata": {},
   "outputs": [],
   "source": [
    "run.wait_for_completion(show_output=True)"
   ]
  },
  {
   "cell_type": "markdown",
   "metadata": {},
   "source": [
    "Succesfully forecasted on AutoML Models. "
   ]
  },
  {
   "cell_type": "markdown",
   "metadata": {},
   "source": [
    "## 5.0 Pipeline Outputs\n",
    "The forecasting pipeline forecasts the orange juice quantity for a Store by Brand. The pipeline returns one file with the predictions for each store and outputs the result to the forecasting_output Blob container. The details of the blob container is listed in 'forecasting_output.txt' under Outputs+logs. \n",
    "\n",
    "The following code snippet:\n",
    "1. Downloads the contents of the output folder that is passed in the parallel run step \n",
    "2. Reads the parallel_run_step.txt file that has the predictions as pandas dataframe and \n",
    "3. Displays the top 10 rows of the predictions"
   ]
  },
  {
   "cell_type": "code",
   "execution_count": null,
   "metadata": {},
   "outputs": [],
   "source": [
    "import pandas as pd\n",
    "import shutil\n",
    "import os\n",
    "import sys \n",
    "from scripts.helper import get_forecasting_output\n",
    "\n",
    "forecasting_results_name = \"forecasting_results\"\n",
    "\n",
    "forecast_file = get_forecasting_output(run, forecasting_results_name, forecasting_output_name)\n",
    "df = pd.read_csv(forecast_file, delimiter=\" \", header=None)\n",
    "df.columns = [\"Week Starting\", \"Store\", \"Brand\", \"Quantity\",  \"Advert\", \"Price\" , \"Revenue\", \"Predicted\" ]\n",
    "print(\"Prediction has \", df.shape[0], \" rows. Here the first 10 rows are being displayed.\")\n",
    "df.head(10)"
   ]
  },
  {
   "cell_type": "markdown",
   "metadata": {},
   "source": [
    "## 6.0 Publish and schedule the pipeline (Optional)"
   ]
  },
  {
   "cell_type": "markdown",
   "metadata": {},
   "source": [
    "### 6.1 Publish the pipeline\n",
    "\n",
    "Once you have a pipeline you're happy with, you can publish a pipeline so you can call it programmatically later on. See this [tutorial](https://docs.microsoft.com/en-us/azure/machine-learning/how-to-create-your-first-pipeline#publish-a-pipeline) for additional information on publishing and calling pipelines."
   ]
  },
  {
   "cell_type": "code",
   "execution_count": null,
   "metadata": {},
   "outputs": [],
   "source": [
    "# published_pipeline = pipeline.publish(name = 'automl_forecast_many_models',\n",
    "#                                      description = 'forecast many models',\n",
    "#                                      version = '1',\n",
    "#                                      continue_on_step_failure = False)"
   ]
  },
  {
   "cell_type": "markdown",
   "metadata": {},
   "source": [
    "### 6.2 Schedule the pipeline\n",
    "You can also [schedule the pipeline](https://docs.microsoft.com/en-us/azure/machine-learning/how-to-schedule-pipelines) to run on a time-based or change-based schedule. This could be used to automatically retrain or forecast models every month or based on another trigger such as data drift."
   ]
  },
  {
   "cell_type": "code",
   "execution_count": null,
   "metadata": {},
   "outputs": [],
   "source": [
    "# from azureml.pipeline.core import Schedule, ScheduleRecurrence\n",
    "    \n",
    "# forecasting_pipeline_id = published_pipeline.id\n",
    "\n",
    "# recurrence = ScheduleRecurrence(frequency=\"Month\", interval=1, start_time=\"2020-01-01T09:00:00\")\n",
    "# recurring_schedule = Schedule.create(ws, name=\"automl_forecasting_recurring_schedule\", \n",
    "#                             description=\"Schedule Forecasting Pipeline to run on the first day of every week\",\n",
    "#                             pipeline_id=forecasting_pipeline_id, \n",
    "#                             experiment_name=experiment.name, \n",
    "#                             recurrence=recurrence)"
   ]
  }
 ],
 "metadata": {
  "authors": [
   {
    "name": "deeptim"
   }
  ],
  "kernelspec": {
   "display_name": "Python 3.6 - AzureML",
   "language": "python",
   "name": "python3-azureml"
  },
  "language_info": {
   "codemirror_mode": {
    "name": "ipython",
    "version": 3
   },
   "file_extension": ".py",
   "mimetype": "text/x-python",
   "name": "python",
   "nbconvert_exporter": "python",
   "pygments_lexer": "ipython3",
   "version": "3.6.9"
  }
 },
 "nbformat": 4,
 "nbformat_minor": 4
}
